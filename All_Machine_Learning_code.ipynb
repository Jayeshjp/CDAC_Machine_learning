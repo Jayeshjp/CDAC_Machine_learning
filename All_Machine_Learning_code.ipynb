{
 "cells": [
  {
   "cell_type": "code",
   "execution_count": 2,
   "id": "a5964e97",
   "metadata": {},
   "outputs": [],
   "source": [
    "import pandas as pd\n",
    "import numpy as np\n",
    "import seaborn as sns\n",
    "import matplotlib.pyplot as plt\n",
    "\n",
    "from sklearn.linear_model import LinearRegression\n",
    "from sklearn.linear_model import LogisticRegression\n",
    "from sklearn.neighbors import KNeighborsRegressor\n",
    "from sklearn.neighbors import KNeighborsClassifier\n",
    "\n",
    "from sklearn.preprocessing import StandardScaler\n",
    "from sklearn.model_selection import KFold\n",
    "from sklearn.model_selection import cross_val_score\n",
    "from sklearn.model_selection import GridSearchCV, StratifiedKFold\n",
    "from sklearn.model_selection import train_test_split\n",
    "from sklearn.pipeline import Pipeline\n",
    "from sklearn import preprocessing\n",
    "\n",
    "from sklearn.metrics import r2_score\n",
    "from sklearn.metrics import mean_absolute_error\n",
    "from sklearn.metrics import mean_squared_error\n",
    "from sklearn.metrics import accuracy_score, confusion_matrix, classification_report\n",
    "from sklearn.metrics import roc_curve, roc_auc_score\n",
    "from sklearn.metrics import log_loss"
   ]
  },
  {
   "cell_type": "code",
   "execution_count": null,
   "id": "b5610a4a",
   "metadata": {},
   "outputs": [],
   "source": [
    "name = pd.read_csv(\"C:\\Aalesh and Mandar\\Datasets\\insurance.csv\")"
   ]
  },
  {
   "cell_type": "markdown",
   "id": "ad6bcd30",
   "metadata": {},
   "source": [
    "## Dummy variable"
   ]
  },
  {
   "cell_type": "code",
   "execution_count": null,
   "id": "06be6902",
   "metadata": {},
   "outputs": [],
   "source": [
    "insurance = pd.get_dummies(insurance, drop_first = True)"
   ]
  },
  {
   "cell_type": "markdown",
   "id": "f4575e3f",
   "metadata": {},
   "source": [
    "## Check Null Value"
   ]
  },
  {
   "cell_type": "code",
   "execution_count": null,
   "id": "cfc12146",
   "metadata": {},
   "outputs": [],
   "source": [
    "hr.isnull().sum()\n",
    "hr.isnull().mean()"
   ]
  },
  {
   "cell_type": "markdown",
   "id": "cdc1b143",
   "metadata": {},
   "source": [
    "## Label Encoding"
   ]
  },
  {
   "cell_type": "code",
   "execution_count": null,
   "id": "3306769e",
   "metadata": {},
   "outputs": [],
   "source": [
    "lebals = preprocessing.LabelEncoder()\n",
    "le_y = lebals.fit_transform(y)\n",
    "print(lebals.classes_)"
   ]
  },
  {
   "cell_type": "markdown",
   "id": "766625e3",
   "metadata": {},
   "source": [
    "## X and Y split"
   ]
  },
  {
   "cell_type": "code",
   "execution_count": null,
   "id": "db718bb6",
   "metadata": {},
   "outputs": [],
   "source": [
    "x = insurance.drop(\"charges\", axis=1)\n",
    "y = insurance[\"charges\"]"
   ]
  },
  {
   "cell_type": "markdown",
   "id": "7437a1c2",
   "metadata": {},
   "source": [
    "## Train Test Split"
   ]
  },
  {
   "cell_type": "code",
   "execution_count": 1,
   "id": "3d618120",
   "metadata": {
    "collapsed": true
   },
   "outputs": [
    {
     "ename": "NameError",
     "evalue": "name 'train_test_split' is not defined",
     "output_type": "error",
     "traceback": [
      "\u001b[1;31m---------------------------------------------------------------------------\u001b[0m",
      "\u001b[1;31mNameError\u001b[0m                                 Traceback (most recent call last)",
      "\u001b[1;32m~\\AppData\\Local\\Temp\\ipykernel_3844\\540558870.py\u001b[0m in \u001b[0;36m<module>\u001b[1;34m\u001b[0m\n\u001b[1;32m----> 1\u001b[1;33m \u001b[0mx_train\u001b[0m\u001b[1;33m,\u001b[0m \u001b[0mx_test\u001b[0m\u001b[1;33m,\u001b[0m \u001b[0my_train\u001b[0m\u001b[1;33m,\u001b[0m \u001b[0my_test\u001b[0m \u001b[1;33m=\u001b[0m \u001b[0mtrain_test_split\u001b[0m\u001b[1;33m(\u001b[0m\u001b[0mx\u001b[0m\u001b[1;33m,\u001b[0m \u001b[0my\u001b[0m\u001b[1;33m,\u001b[0m \u001b[0mrandom_state\u001b[0m \u001b[1;33m=\u001b[0m \u001b[1;36m2022\u001b[0m\u001b[1;33m,\u001b[0m \u001b[0mtest_size\u001b[0m \u001b[1;33m=\u001b[0m \u001b[1;36m0.3\u001b[0m\u001b[1;33m)\u001b[0m\u001b[1;33m\u001b[0m\u001b[1;33m\u001b[0m\u001b[0m\n\u001b[0m",
      "\u001b[1;31mNameError\u001b[0m: name 'train_test_split' is not defined"
     ]
    }
   ],
   "source": [
    "x_train, x_test, y_train, y_test = train_test_split(x, y, random_state = 2022, test_size = 0.3)"
   ]
  },
  {
   "cell_type": "markdown",
   "id": "9ed1742e",
   "metadata": {},
   "source": [
    "## Define the algorithm"
   ]
  },
  {
   "cell_type": "code",
   "execution_count": null,
   "id": "2a651d28",
   "metadata": {},
   "outputs": [],
   "source": [
    "scalar = StandardScaler()\n",
    "lr = LinearRegression()\n",
    "lr = LogisticRegression()\n",
    "nb = BernoulliNB()"
   ]
  },
  {
   "cell_type": "markdown",
   "id": "12b56003",
   "metadata": {},
   "source": [
    "## Fit and predict"
   ]
  },
  {
   "cell_type": "code",
   "execution_count": null,
   "id": "31eca439",
   "metadata": {},
   "outputs": [],
   "source": [
    "lr.fit(x_train, y_train)\n",
    "y_pred = lr.predict(x_test)\n",
    "y_pred_prob = lr.predict_proba(x_test)[:,1]\n",
    "\n",
    "result = cross_val_score(nb, x, y, scoring=\"roc_auc\", cv = kfold)"
   ]
  },
  {
   "cell_type": "markdown",
   "id": "04deb086",
   "metadata": {},
   "source": [
    "## ModelEvauation"
   ]
  },
  {
   "cell_type": "code",
   "execution_count": null,
   "id": "6fb31748",
   "metadata": {},
   "outputs": [],
   "source": [
    "print(accuracy_score(y_test, y_pred))\n",
    "print(roc_auc_score(y_test, y_pred_prob))\n",
    "print(r2_score(y_test, y_pred))\n",
    "print(gcv.best_params_)\n",
    "print(gcv.best_score_)"
   ]
  },
  {
   "cell_type": "markdown",
   "id": "e6e0ea0c",
   "metadata": {},
   "source": [
    "## Pipe"
   ]
  },
  {
   "cell_type": "code",
   "execution_count": null,
   "id": "e7beffd9",
   "metadata": {},
   "outputs": [],
   "source": [
    "pipe = Pipeline([(\"STD\", scaler),(\"LR\",lr)])"
   ]
  },
  {
   "cell_type": "markdown",
   "id": "11de1745",
   "metadata": {},
   "source": [
    "## Hyperparameter Tuning "
   ]
  },
  {
   "cell_type": "markdown",
   "id": "0a901bb0",
   "metadata": {},
   "source": [
    "##                   Grid SearchCV"
   ]
  },
  {
   "cell_type": "code",
   "execution_count": null,
   "id": "b735ea90",
   "metadata": {},
   "outputs": [],
   "source": [
    "kfold = StratifiedKFold(n_splits = 5, shuffle = True, random_state = 2022)\n",
    "lr = LogisticRegression(solver = \"saga\")\n",
    "params = {\"penalty\": [\"l1\", \"l2\", \"elasticnet\", None],\n",
    "          \"C\" : np.linspace(0.001, 4, 5),\n",
    "          \"l1_ratio\" : np.linspace(0.001, 1, 5)}\n",
    "\n",
    "gcv = GridSearchCV(lr, param_grid = params, verbose = 3, scoring = \"roc_auc\", cv = kfold)\n",
    "gcv.fit(x,y)"
   ]
  },
  {
   "cell_type": "code",
   "execution_count": null,
   "id": "4bb88964",
   "metadata": {},
   "outputs": [],
   "source": []
  }
 ],
 "metadata": {
  "kernelspec": {
   "display_name": "Python 3 (ipykernel)",
   "language": "python",
   "name": "python3"
  },
  "language_info": {
   "codemirror_mode": {
    "name": "ipython",
    "version": 3
   },
   "file_extension": ".py",
   "mimetype": "text/x-python",
   "name": "python",
   "nbconvert_exporter": "python",
   "pygments_lexer": "ipython3",
   "version": "3.9.13"
  }
 },
 "nbformat": 4,
 "nbformat_minor": 5
}
