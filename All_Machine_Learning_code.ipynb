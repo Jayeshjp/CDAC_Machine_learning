{
 "cells": [
  {
   "cell_type": "code",
   "execution_count": 2,
   "id": "a5964e97",
   "metadata": {},
   "outputs": [],
   "source": [
    "import pandas as pd\n",
    "import numpy as np\n",
    "import seaborn as sns\n",
    "import matplotlib.pyplot as plt\n",
    "\n",
    "from sklearn.linear_model import LinearRegression\n",
    "from sklearn.neighbors import KNeighborsRegressor\n",
    "from sklearn.neighbors import KNeighborsClassifier\n",
    "\n",
    "from sklearn.preprocessing import StandardScaler\n",
    "from sklearn.model_selection import KFold\n",
    "from sklearn.model_selection import cross_val_score\n",
    "from sklearn.model_selection import GridSearchCV\n",
    "from sklearn.model_selection import train_test_split\n",
    "from sklearn.pipeline import Pipeline\n",
    "\n",
    "from sklearn.metrics import r2_score\n",
    "from sklearn.metrics import mean_absolute_error\n",
    "from sklearn.metrics import mean_squared_error\n",
    "from sklearn.metrics import accuracy_score, confusion_matrix, classification_report\n",
    "from sklearn.metrics import roc_curve, roc_auc_score\n",
    "from sklearn.metrics import log_loss"
   ]
  },
  {
   "cell_type": "code",
   "execution_count": null,
   "id": "b5610a4a",
   "metadata": {},
   "outputs": [],
   "source": [
    "name = pd.read_csv(\"C:\\Aalesh and Mandar\\Datasets\\insurance.csv\")"
   ]
  },
  {
   "cell_type": "markdown",
   "id": "ad6bcd30",
   "metadata": {},
   "source": [
    "## Dummy variable"
   ]
  },
  {
   "cell_type": "code",
   "execution_count": null,
   "id": "06be6902",
   "metadata": {},
   "outputs": [],
   "source": [
    "insurance = pd.get_dummies(insurance, drop_first = True)"
   ]
  },
  {
   "cell_type": "markdown",
   "id": "766625e3",
   "metadata": {},
   "source": [
    "## X and Y split"
   ]
  },
  {
   "cell_type": "code",
   "execution_count": null,
   "id": "db718bb6",
   "metadata": {},
   "outputs": [],
   "source": [
    "x = insurance.drop(\"charges\", axis=1)\n",
    "y = insurance[\"charges\"]"
   ]
  },
  {
   "cell_type": "markdown",
   "id": "9ed1742e",
   "metadata": {},
   "source": [
    "## Define the algorithm"
   ]
  },
  {
   "cell_type": "code",
   "execution_count": null,
   "id": "2a651d28",
   "metadata": {},
   "outputs": [],
   "source": [
    "scalar = StandardScaler()\n",
    "lr = LinearRegression()\n"
   ]
  }
 ],
 "metadata": {
  "kernelspec": {
   "display_name": "Python 3 (ipykernel)",
   "language": "python",
   "name": "python3"
  },
  "language_info": {
   "codemirror_mode": {
    "name": "ipython",
    "version": 3
   },
   "file_extension": ".py",
   "mimetype": "text/x-python",
   "name": "python",
   "nbconvert_exporter": "python",
   "pygments_lexer": "ipython3",
   "version": "3.9.13"
  }
 },
 "nbformat": 4,
 "nbformat_minor": 5
}
